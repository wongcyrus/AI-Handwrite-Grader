{
 "cells": [
  {
   "cell_type": "markdown",
   "metadata": {},
   "source": [
    "# Preprocessing Student Answer\n",
    "Create scoring web apps and validate the scoring result.\n",
    "\n",
    "You can provide the language for better OCR https://cloud.google.com/vision/docs/languagesc"
   ]
  },
  {
   "cell_type": "code",
   "execution_count": null,
   "metadata": {},
   "outputs": [],
   "source": [
    "pdf_file = \"../data/TestScript.pdf\"\n",
    "standard_answer = pdf_file.replace(\".pdf\", \".xlsx\")\n",
    "language_hints = [\"en\"]"
   ]
  },
  {
   "cell_type": "markdown",
   "metadata": {},
   "source": [
    "## Login Google Cloud Platform \n",
    "Open a terminal and run\n",
    "\n",
    "```gcloud auth login```\n",
    "\n",
    "Replace XXX with your GCP project name\n",
    "\n",
    "```gcloud config set project XXXX```"
   ]
  },
  {
   "cell_type": "code",
   "execution_count": null,
   "metadata": {},
   "outputs": [],
   "source": [
    "project_id = \"cyrus-testing-2023\"\n",
    "!gcloud config set project {project_id}"
   ]
  },
  {
   "cell_type": "markdown",
   "metadata": {},
   "source": [
    "Enable Google API"
   ]
  },
  {
   "cell_type": "code",
   "execution_count": null,
   "metadata": {},
   "outputs": [],
   "source": [
    "!gcloud services enable vision.googleapis.com\n",
    "!gcloud services enable aiplatform.googleapis.com"
   ]
  },
  {
   "cell_type": "markdown",
   "metadata": {},
   "source": [
    "Open a terminal and run\n",
    "\n",
    "```gcloud auth application-default login```\n",
    "\n",
    "The rest of the code request client library auth.\n",
    "Set the application quota."
   ]
  },
  {
   "cell_type": "code",
   "execution_count": null,
   "metadata": {},
   "outputs": [],
   "source": [
    "!gcloud config set project {project_id}\n",
    "!gcloud auth application-default set-quota-project {project_id}"
   ]
  },
  {
   "cell_type": "code",
   "execution_count": null,
   "metadata": {},
   "outputs": [],
   "source": [
    "!sudo apt-get update\n",
    "!sudo apt-get install ffmpeg libsm6 libxext6 -y"
   ]
  },
  {
   "cell_type": "code",
   "execution_count": null,
   "metadata": {},
   "outputs": [],
   "source": [
    "import os\n",
    "\n",
    "file_name = os.path.basename(pdf_file)\n",
    "file_name = os.path.splitext(file_name)[0]\n",
    "base_path = \"../marking_form/\" + file_name\n",
    "base_path_images = base_path + \"/images/\"\n",
    "base_path_annotations = base_path+\"/annotations/\"\n",
    "base_path_questions = base_path+\"/questions\"\n",
    "base_path_javascript = base_path+\"/javascript\"\n",
    "\n",
    "# create directory tree for base_path_images\n",
    "os.makedirs(base_path_images, exist_ok=True)\n",
    "os.makedirs(base_path_annotations, exist_ok=True)\n",
    "os.makedirs(base_path_questions, exist_ok=True)\n",
    "os.makedirs(base_path_javascript, exist_ok=True)"
   ]
  },
  {
   "cell_type": "code",
   "execution_count": null,
   "metadata": {},
   "outputs": [],
   "source": [
    "import json\n",
    "annotations_path = base_path_annotations + \"annotations.json\"\n",
    "with open(annotations_path, \"r\") as f: \n",
    "    annotations = json.load(f)          \n",
    "\n",
    "#flatten annotations to list \n",
    "annotations_list = []\n",
    "for page in annotations:\n",
    "    for annotation in annotations[page]:\n",
    "        annotation[\"page\"] = int(page)\n",
    "        # x to left, y to top\n",
    "        annotation[\"left\"] = annotation[\"x\"]\n",
    "        annotation[\"top\"] = annotation[\"y\"]\n",
    "        annotation.pop(\"x\")\n",
    "        annotation.pop(\"y\")\n",
    "        annotations_list.append(annotation) \n",
    "annotations_list\n",
    "\n",
    "# convert annotations_list to dict with key with label\n",
    "annotations_dict = {}\n",
    "for annotation in annotations_list:\n",
    "    annotations_dict[annotation[\"label\"]] = annotation\n",
    "# annotations_dict\n"
   ]
  },
  {
   "cell_type": "code",
   "execution_count": null,
   "metadata": {},
   "outputs": [],
   "source": [
    "# extract list of label from annotations as questions\n",
    "questions = []\n",
    "for annotation in annotations_list:\n",
    "    if annotation[\"label\"] not in questions:\n",
    "        questions.append(annotation[\"label\"])\n",
    "# remove 'NAME', 'ID', 'CLASS' if exists in questions\n",
    "if 'NAME' in questions:\n",
    "    questions.remove('NAME')\n",
    "if 'ID' in questions:\n",
    "    questions.remove('ID')\n",
    "if 'CLASS' in questions:\n",
    "    questions.remove('CLASS')    \n",
    "\n",
    "# sort questions \n",
    "questions.sort()\n",
    "question_with_answer = questions.copy()\n",
    "questions = ['NAME', 'ID', 'CLASS'] + questions\n",
    "questions"
   ]
  },
  {
   "cell_type": "markdown",
   "metadata": {},
   "source": [
    "## Validate Provided Standard Answer for each question"
   ]
  },
  {
   "cell_type": "code",
   "execution_count": null,
   "metadata": {},
   "outputs": [],
   "source": [
    "## load standard_answer to dataframe\n",
    "import pandas as pd\n",
    "name_list_df = pd.read_excel(standard_answer, sheet_name=\"NameList\")\n",
    "standard_answer_df = pd.read_excel(standard_answer, sheet_name=\"Answer\")\n",
    "standard_answer_df.head()"
   ]
  },
  {
   "cell_type": "code",
   "execution_count": null,
   "metadata": {},
   "outputs": [],
   "source": [
    "from termcolor import colored\n",
    "\n",
    "# check question_with_answer in standard_answer_df Question column\n",
    "for question in question_with_answer:\n",
    "    if question not in standard_answer_df[\"Question\"].values:\n",
    "        print(colored(\"Question {} is not in standard_answer!\".format(question), 'red'))\n",
    "\n",
    "for question in standard_answer_df[\"Question\"].values:\n",
    "    if question not in question_with_answer:\n",
    "        print(colored(\"Question {} is not in annotations!\".format(question), 'red'))\n",
    "            "
   ]
  },
  {
   "cell_type": "code",
   "execution_count": null,
   "metadata": {},
   "outputs": [],
   "source": [
    "standard_answer = standard_answer_df.set_index(\"Question\").to_dict()[\"Answer\"]\n",
    "standard_answer"
   ]
  },
  {
   "cell_type": "markdown",
   "metadata": {},
   "source": [
    "Check for the regeneration of question."
   ]
  },
  {
   "cell_type": "code",
   "execution_count": null,
   "metadata": {},
   "outputs": [],
   "source": [
    "import os\n",
    "import json\n",
    "\n",
    "questionAndControl = {}\n",
    "for path, currentDirectory, files in os.walk(base_path_questions):\n",
    "    for file in files:\n",
    "        if file == \"control.json\":\n",
    "            question = path[len(base_path_questions) + 1 :]\n",
    "            f = open(os.path.join(path, file))\n",
    "            data = json.load(f)\n",
    "            if \"regenerate\" in data:\n",
    "                questionAndControl[question] = data\n",
    "            f.close()\n",
    "\n",
    "questionAndControl"
   ]
  },
  {
   "cell_type": "code",
   "execution_count": null,
   "metadata": {},
   "outputs": [],
   "source": [
    "from distutils.dir_util import copy_tree\n",
    "import shutil\n",
    "import os\n",
    "\n",
    "from_directory = os.path.join(os.getcwd(), \"..\",\"templates\", \"javascript\")\n",
    "copy_tree(from_directory, base_path_javascript)\n",
    "ico = os.path.join(os.getcwd(), \"..\",\"templates\", \"favicon.ico\")\n",
    "# copy ico file  to base_path\n",
    "shutil.copyfile(ico, base_path+\"/favicon.ico\")"
   ]
  },
  {
   "cell_type": "markdown",
   "metadata": {},
   "source": [
    "Generate the index.html"
   ]
  },
  {
   "cell_type": "code",
   "execution_count": null,
   "metadata": {},
   "outputs": [],
   "source": [
    "from pathlib import Path\n",
    "from jinja2 import Environment, FileSystemLoader\n",
    "\n",
    "file_loader = FileSystemLoader(\"../templates\")\n",
    "env = Environment(loader=file_loader)\n",
    "template = env.get_template(\"index.html\")\n",
    "\n",
    "output = template.render(\n",
    "    studentsScriptFileName=file_name,\n",
    "    textAnswer=questions,\n",
    "    optionAnswer=[],\n",
    ")\n",
    "# open text file\n",
    "path = Path(os.path.join(base_path, \"index.html\"))\n",
    "text_file = open(path, \"w\")\n",
    "text_file.write(output)\n",
    "text_file.close()"
   ]
  },
  {
   "cell_type": "code",
   "execution_count": null,
   "metadata": {},
   "outputs": [],
   "source": [
    "from google.cloud import vision\n",
    "import tempfile\n",
    "from PIL import Image, ImageEnhance\n",
    "import os\n",
    "\n",
    "client = vision.ImageAnnotatorClient()\n",
    "\n",
    "\n",
    "def combine_text(response):\n",
    "    word_texts = []\n",
    "    confidences = []\n",
    "    for page in response.full_text_annotation.pages:\n",
    "        for block in page.blocks:            \n",
    "            for paragraph in block.paragraphs:              \n",
    "                for word in paragraph.words:\n",
    "                    word_text = \"\".join([symbol.text for symbol in word.symbols])          \n",
    "                    word_texts.append(word_text)\n",
    "                    confidences.append(word.confidence)\n",
    "    #Join word_texts to string with space\n",
    "    text = \" \".join(word_texts)\n",
    "\n",
    "    if confidences == []:\n",
    "        confidence = 1\n",
    "    else:\n",
    "        confidence = sum(confidences) / len(confidences)\n",
    "    return text, confidence\n",
    "\n",
    "\n",
    "def ocr_image_from_file(image_path, left, top, width, height):\n",
    "    imageFile = tempfile.NamedTemporaryFile(suffix=\".png\").name\n",
    "    with Image.open(image_path) as im:\n",
    "        # The crop method from the Image module takes four coordinates as input.\n",
    "        # The right can also be represented as (left+width)\n",
    "        # and lower can be represented as (upper+height).\n",
    "        (left, top, right, lower) = (\n",
    "            left,\n",
    "            top,\n",
    "            left + width,\n",
    "            top + height,\n",
    "        )\n",
    "        # Here the image \"im\" is cropped and assigned to new variable im_crop\n",
    "        im_crop = im.crop((left, top, right, lower))\n",
    "        imageEnhance = ImageEnhance.Sharpness(im_crop)\n",
    "        # showing resultant image\n",
    "        im_crop = imageEnhance.enhance(3)\n",
    "        im_crop.save(imageFile, format=\"png\")\n",
    "\n",
    "    with open(imageFile, \"rb\") as image_file:\n",
    "        content = image_file.read()\n",
    "\n",
    "    image = vision.Image(content=content)\n",
    "    response = client.document_text_detection(image=image,image_context={\"language_hints\": language_hints})   \n",
    "    os.remove(imageFile)\n",
    "    return combine_text(response)"
   ]
  },
  {
   "cell_type": "markdown",
   "metadata": {},
   "source": [
    "### Get embedding \n",
    "You can change the logic and model according to https://www.sbert.net/ "
   ]
  },
  {
   "cell_type": "code",
   "execution_count": null,
   "metadata": {},
   "outputs": [],
   "source": [
    "from vertexai.language_models import TextEmbeddingModel\n",
    "from sentence_transformers import util\n",
    "\n",
    "model = TextEmbeddingModel.from_pretrained(\"textembedding-gecko@001\")\n",
    "\n",
    "\n",
    "def text_embedding(texts):\n",
    "    # split texts to 5 elements list and the last element is the rest of texts\n",
    "    texts_in_5 = [texts[i : i + 5] for i in range(0, len(texts), 5)]     \n",
    "    embeddings_results=[]\n",
    "    for t in texts_in_5:\n",
    "        # mark down element in t is \"\" and replace with \" \" as get_embeddings does not accept empty string!\n",
    "        t = [\" \" if x == \"\" else x for x in t]\n",
    "        embeddings = model.get_embeddings(t)\n",
    "        #join embedding.values to embeddings_results\n",
    "        for embedding in embeddings:\n",
    "            vector = embedding.values\n",
    "            embeddings_results.append(vector)\n",
    "        \n",
    "    return embeddings_results\n",
    "\n",
    "\n",
    "def calculate_similarity(answers, question):\n",
    "    # Add the standard answer to the head of list.\n",
    "\n",
    "    if question not in standard_answer:\n",
    "        ## return list of 0 in len of answers\n",
    "        return [0] * len(answers)\n",
    "\n",
    "    answers.insert(0, standard_answer[question])\n",
    "    # Compute embeddings\n",
    "    embeddings = text_embedding(answers)\n",
    "    # Compute cosine-similarities for each sentence with each other sentence\n",
    "    cosine_scores = util.pytorch_cos_sim(embeddings, embeddings)\n",
    "    # Find the pairs with the highest cosine similarity scores\n",
    "    pairs = []\n",
    "    for j in range(0, len(cosine_scores)):\n",
    "        pairs.append(float(cosine_scores[0][j]))\n",
    "    # Empty answer similarity must be 0.\n",
    "    l = list(map(lambda x: (x[0], 0) if x[0] == \"\" else x, zip(answers, pairs)))\n",
    "    similarties = list(list(zip(*l))[1])\n",
    "    similarties.pop(0)\n",
    "    return similarties"
   ]
  },
  {
   "cell_type": "code",
   "execution_count": null,
   "metadata": {},
   "outputs": [],
   "source": [
    "import os\n",
    "import pandas as pd\n",
    "\n",
    "\n",
    "def get_the_list_of_files(path):\n",
    "    \"\"\"\n",
    "    Get the list of files in the directory\n",
    "    \"\"\"\n",
    "    files = []\n",
    "    for dirpath, dirnames, filenames in os.walk(path):\n",
    "        files.extend(filenames)\n",
    "        break\n",
    "    return sorted(files)\n",
    "\n",
    "\n",
    "images = get_the_list_of_files(base_path_images)\n",
    "\n",
    "# get max page from annotations_list\n",
    "max_page = 0\n",
    "for annotation in annotations_list:\n",
    "    if annotation[\"page\"] > max_page:\n",
    "        max_page = annotation[\"page\"]\n",
    "max_page = max_page + (1 if max_page % 2 == 1 else max_page + 2) # Scanner will have a blank page!\n",
    "\n",
    "# filter images by file name divided by page\n",
    "images_by_page = []\n",
    "for page in range(max_page):\n",
    "    images_by_page.append([])\n",
    "    for image in images:\n",
    "        p = int(image.split(\".\")[0])\n",
    "        if p % max_page == page:\n",
    "            images_by_page[page].append(image)\n",
    "\n",
    "\n",
    "def get_df(question):\n",
    "    row = annotations_dict[question].copy()\n",
    "\n",
    "    row[\"Similarity\"] = 0\n",
    "    row[\"Image\"] = images_by_page[row[\"page\"]]\n",
    "    # append base_path_images to each image\n",
    "    row[\"Image\"] = [\"images/\" + image for image in row[\"Image\"]]\n",
    "\n",
    "    # expend row to dataframe for each image in row[\"Image\"]\n",
    "    data = pd.DataFrame(row)\n",
    "    data = data.explode(\"Image\")\n",
    "    data = data.reset_index(drop=True)\n",
    "\n",
    "    data[\"AnswerAndConfidence\"] = data.apply(\n",
    "        lambda row: ocr_image_from_file(\n",
    "            base_path + \"/\" + row[\"Image\"],\n",
    "            row[\"left\"],\n",
    "            row[\"top\"],\n",
    "            row[\"width\"],\n",
    "            row[\"height\"],\n",
    "        ),\n",
    "        axis=1,\n",
    "    )\n",
    "    # split AnswerAndConfidence to Answer and Confidence column where Answer is the first element and Confidence is the second element\n",
    "    data[[\"Answer\", \"Confidence\"]] = pd.DataFrame(data['AnswerAndConfidence'].tolist(), index=data.index)\n",
    "    #drop AnswerAndConfidence column\n",
    "    data = data.drop(columns=[\"AnswerAndConfidence\"])\n",
    "\n",
    "    # add column RowNumber\n",
    "    data[\"RowNumber\"] = data.index + 1\n",
    "    data[\"maskPage\"] = data[\"page\"]\n",
    "\n",
    "    similarties = calculate_similarity(data[\"Answer\"].tolist(), question)\n",
    "\n",
    "    data[\"Similarity\"] = similarties\n",
    "\n",
    "    data[\"page\"] = data[\"Image\"].apply(\n",
    "        lambda x: x.replace(\"images/\", \"\").replace(\".jpg\", \"\")\n",
    "    )\n",
    "    data[\"Mark\"] = data[\"Answer\"].apply(lambda x: \"0\" if len(x.strip()) == 0 else \"\")\n",
    "\n",
    "    return data\n",
    "\n",
    "\n",
    "def save_template_output(output, question, filename):\n",
    "    path = Path(base_path_questions, question)\n",
    "    path.mkdir(parents=True, exist_ok=True)\n",
    "    path = Path(os.path.join(path, filename))\n",
    "    text_file = open(path, \"w\")\n",
    "    text_file.write(output)\n",
    "    text_file.close()\n",
    "\n",
    "\n",
    "# question = \"NAME\"\n",
    "# get_df(question)"
   ]
  },
  {
   "cell_type": "markdown",
   "metadata": {},
   "source": [
    "Generate individual question page."
   ]
  },
  {
   "cell_type": "code",
   "execution_count": null,
   "metadata": {},
   "outputs": [],
   "source": [
    "from ipywidgets import IntProgress\n",
    "from IPython.display import display\n",
    "\n",
    "max_count = len(questions)\n",
    "f = IntProgress(min=0, max=max_count) # instantiate the bar\n",
    "display(f) # display the bar\n",
    "\n",
    "for question in questions:\n",
    "    dataTable = get_df(question)\n",
    "    os.makedirs(base_path_questions + \"/\" + question, exist_ok=True)\n",
    "    dataTable.to_csv(base_path_questions + \"/\" + question + \"/data.csv\", index=False)\n",
    "\n",
    "    if question == \"ID\" or question == \"NAME\" or question == \"CLASS\":\n",
    "        template = env.get_template(\"questions/index-answer.jinja\")\n",
    "    else:\n",
    "        template = env.get_template(\"questions/index.jinja\")\n",
    "    output = template.render(\n",
    "        studentsScriptFileName=file_name,\n",
    "        question=question,\n",
    "        standardAnswer=standard_answer[question] if question in standard_answer else \"\",\n",
    "        estimatedBoundingBox=annotations_dict[question],\n",
    "        dataTable=dataTable,\n",
    "    )\n",
    "    save_template_output(output, question, \"index.html\")\n",
    "\n",
    "    template = env.get_template(\"questions/question.js\")\n",
    "    output = template.render(\n",
    "        dataTable=dataTable,\n",
    "        estimatedBoundingBox=annotations_dict[question],\n",
    "    )\n",
    "    save_template_output(output, question, \"question.js\")\n",
    "\n",
    "    template = env.get_template(\"questions/style.css\")\n",
    "    output = template.render(\n",
    "        dataTable=dataTable,\n",
    "    )\n",
    "    save_template_output(output, question, \"style.css\")\n",
    "    f.value += 1"
   ]
  },
  {
   "cell_type": "markdown",
   "metadata": {},
   "source": [
    "## Validate Student ID"
   ]
  },
  {
   "cell_type": "code",
   "execution_count": null,
   "metadata": {},
   "outputs": [],
   "source": [
    "# load csv file to dataframe\n",
    "import pandas as pd\n",
    "\n",
    "id_from_oscr = pd.read_csv(base_path_questions + \"/\" + \"ID\" + \"/data.csv\")[\"Answer\"].tolist()\n",
    "id_from_namelist = name_list_df[\"StudentID\"].to_list()\n",
    "\n",
    "# check duplicate id\n",
    "duplicate_id = []\n",
    "for id in id_from_oscr:\n",
    "    if id_from_oscr.count(id) > 1:\n",
    "        duplicate_id.append(id)\n",
    "duplicate_id = list(set(duplicate_id))\n",
    "if len(duplicate_id) > 0:\n",
    "    print(colored(\"Duplicate ID: {}\".format(duplicate_id), \"red\"))\n",
    "\n",
    "id_from_oscr = [str(id) for id in id_from_oscr]\n",
    "id_from_namelist = [str(id) for id in id_from_namelist]\n",
    "\n",
    "# compare oscr_id and validate_id\n",
    "ocr_missing_id = []\n",
    "name_list_missing_id = []\n",
    "for id in id_from_oscr:    \n",
    "    if id not in id_from_namelist:       \n",
    "        name_list_missing_id.append(id)\n",
    "\n",
    "for id in id_from_namelist:\n",
    "    if id not in id_from_oscr:   \n",
    "        ocr_missing_id.append(id)"
   ]
  },
  {
   "cell_type": "markdown",
   "metadata": {},
   "source": [
    "## OCR error case"
   ]
  },
  {
   "cell_type": "code",
   "execution_count": null,
   "metadata": {},
   "outputs": [],
   "source": [
    "from termcolor import colored\n",
    "if len(ocr_missing_id) > 0:\n",
    "    print(colored(\"Some IDs OCR is not in NameList and you need to fix it manually!\", \"red\"))\n",
    "    for id in name_list_missing_id:\n",
    "        print(colored(id, \"red\"))\n",
    "\n"
   ]
  },
  {
   "cell_type": "markdown",
   "metadata": {},
   "source": [
    "## Potential Absent Case"
   ]
  },
  {
   "cell_type": "code",
   "execution_count": null,
   "metadata": {},
   "outputs": [],
   "source": [
    "from termcolor import colored\n",
    "\n",
    "if len(ocr_missing_id) > 0:\n",
    "    print(colored(\"Number of absentee {}.\".format(len(ocr_missing_id)), \"red\"))\n",
    "    print(colored(\"ID in Name List does not find from OCR!\", \"red\"))\n",
    "    for id in ocr_missing_id:\n",
    "        print(colored(id, \"red\"))"
   ]
  },
  {
   "cell_type": "markdown",
   "metadata": {},
   "source": [
    "# Start Python HTTPServer\n",
    "\n",
    "The webserver log is in output/server.log.\n",
    "\n",
    "If you are in development and don't want the notebook being blocked by running webserver, you can open a terminal and run the below command.\n",
    "\n",
    "file_name=XXXX python server.py 8000"
   ]
  },
  {
   "cell_type": "code",
   "execution_count": null,
   "metadata": {},
   "outputs": [],
   "source": [
    "print(\"file_name={} python server.py 8000\".format(file_name))"
   ]
  },
  {
   "cell_type": "code",
   "execution_count": null,
   "metadata": {},
   "outputs": [],
   "source": [
    "# You can also uncomment the following line to run the web server but if it crashes, you need to restart the kernel.\n",
    "# !cd .. && file_name=TestScript python server.py 8000"
   ]
  },
  {
   "cell_type": "markdown",
   "metadata": {},
   "source": [
    "# Post Processing after scoring\n",
    "1. Check all question has scores.\n",
    "2. Check ID again."
   ]
  },
  {
   "cell_type": "code",
   "execution_count": null,
   "metadata": {},
   "outputs": [],
   "source": [
    "# check each sub folder of base_path_questions contains file name mark.json, ignore the root folder\n",
    "import os\n",
    "import json\n",
    "\n",
    "unfinsihed_scoring = []\n",
    "for path, currentDirectory, files in os.walk(base_path_questions):\n",
    "    if path != base_path_questions:\n",
    "        # extract question name from path\n",
    "        question = path[len(base_path_questions) + 1 :]\n",
    "        if \"mark.json\" not in files:\n",
    "            unfinsihed_scoring.append(question)\n",
    "        else:\n",
    "            # read mark.json as json\n",
    "            with open(os.path.join(path, \"mark.json\"), \"r\") as f:\n",
    "                marks = json.load(f)            \n",
    "            # check each mark in marks that attribute \"mark\" or \"overridedMark\" is not empty\n",
    "            for mark in marks:\n",
    "                if mark['mark'] == \"\" and  mark['overridedMark'] == \"\":\n",
    "                    # extract question name from path                   \n",
    "                    unfinsihed_scoring.append(question)\n",
    "                    break             \n",
    "\n",
    "if len(unfinsihed_scoring) > 0:            \n",
    "    print(colored(\"{} have some question not yet mark!\".format(unfinsihed_scoring), \"red\"))          \n",
    "else:\n",
    "    print(\"All questions have been marked!\")"
   ]
  },
  {
   "cell_type": "markdown",
   "metadata": {},
   "source": [
    "Check ID"
   ]
  },
  {
   "cell_type": "code",
   "execution_count": null,
   "metadata": {},
   "outputs": [],
   "source": [
    "import os\n",
    "import json\n",
    "\n",
    "with open(os.path.join(base_path_questions,\"ID\", \"mark.json\"), \"r\") as f:\n",
    "    marks = json.load(f)\n",
    "\n",
    "id_from_mark = list(map(lambda x: x[\"overridedMark\"] if x[\"overridedMark\"] != \"\" else x[\"mark\"], marks))\n",
    "id_from_namelist = name_list_df[\"StudentID\"].to_list()\n",
    "\n",
    "# convert id_from_mark to string\n",
    "id_from_mark = [str(id) for id in id_from_mark]\n",
    "id_from_namelist = [str(id) for id in id_from_namelist]\n",
    "\n",
    "mark_missing_id = []\n",
    "for id in id_from_namelist:\n",
    "    if id not in id_from_mark:   \n",
    "        mark_missing_id.append(id)\n",
    "print(colored(\"In class but not marked - {}!\".format(mark_missing_id), \"red\"))    \n",
    "\n",
    "marked_but_not_in_namelist = []\n",
    "for id in id_from_mark:\n",
    "    if id not in id_from_namelist:   \n",
    "        marked_but_not_in_namelist.append(id)\n",
    "\n",
    "print(colored(\"Marked ID but not in class - {}!\".format(marked_but_not_in_namelist), \"red\"))"
   ]
  },
  {
   "cell_type": "markdown",
   "metadata": {},
   "source": [
    "### Remove version history\n",
    "Before you backup."
   ]
  },
  {
   "cell_type": "code",
   "execution_count": null,
   "metadata": {},
   "outputs": [],
   "source": [
    "## remove fill start with control- or mark- and end with .json in base_path_questions recursively.\n",
    "import os\n",
    "for path, currentDirectory, files in os.walk(base_path_questions):\n",
    "    for file in files:\n",
    "        if file.startswith(\"control-\") or file.startswith(\"mark-\"):\n",
    "            os.remove(os.path.join(path, file))"
   ]
  },
  {
   "cell_type": "markdown",
   "metadata": {},
   "source": [
    "### Reset everything (Danger)\n",
    "Remove mark.js and control.js"
   ]
  },
  {
   "cell_type": "code",
   "execution_count": null,
   "metadata": {},
   "outputs": [],
   "source": [
    "# import os\n",
    "# for path, currentDirectory, files in os.walk(base_path_questions):\n",
    "    \n",
    "#     for file in files:       \n",
    "#         if file == \"control.json\" or file == \"mark.json\":\n",
    "#             os.remove(os.path.join(path, file))"
   ]
  },
  {
   "cell_type": "code",
   "execution_count": null,
   "metadata": {},
   "outputs": [],
   "source": []
  }
 ],
 "metadata": {
  "kernelspec": {
   "display_name": "Python 3",
   "language": "python",
   "name": "python3"
  },
  "language_info": {
   "codemirror_mode": {
    "name": "ipython",
    "version": 3
   },
   "file_extension": ".py",
   "mimetype": "text/x-python",
   "name": "python",
   "nbconvert_exporter": "python",
   "pygments_lexer": "ipython3",
   "version": "3.11.4"
  },
  "orig_nbformat": 4
 },
 "nbformat": 4,
 "nbformat_minor": 2
}
